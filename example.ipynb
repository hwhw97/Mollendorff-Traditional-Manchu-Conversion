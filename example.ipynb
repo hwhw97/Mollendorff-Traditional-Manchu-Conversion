{
 "cells": [
  {
   "cell_type": "markdown",
   "id": "7e4f2614-581d-41bc-8921-10291bc2291f",
   "metadata": {
    "execution": {
     "iopub.execute_input": "2025-01-18T08:44:01.295772Z",
     "iopub.status.busy": "2025-01-18T08:44:01.293944Z",
     "iopub.status.idle": "2025-01-18T08:44:01.304736Z",
     "shell.execute_reply": "2025-01-18T08:44:01.303872Z",
     "shell.execute_reply.started": "2025-01-18T08:44:01.295695Z"
    }
   },
   "source": [
    "# Möllendorff-Traditional-Manchu-Conversion\n",
    "\n",
    "用于将传统满文（如：ᠮᠠᠨᠵᡠ）和穆麟德（Möllendorff）转写式满文（如：manju）进行自动转换。\n",
    "\n",
    "参考：\n",
    "- [Latin-Manchu-Transliteration-Tool](https://github.com/foxal/Latin-Manchu-Transliteration-Tool.git)\n",
    "- [满文转写方案](https://zh.wikipedia.org/wiki/满文转写方案)\n",
    "\n",
    "## 使用方法\n",
    "\n",
    "- 自动识别输入的文本是传统满文还是穆麟德转写式满文，并互相转换"
   ]
  },
  {
   "cell_type": "code",
   "execution_count": 17,
   "id": "4540f285-54ac-45ce-8a11-61803a285cff",
   "metadata": {
    "execution": {
     "iopub.execute_input": "2025-01-18T09:17:01.099913Z",
     "iopub.status.busy": "2025-01-18T09:17:01.098396Z",
     "iopub.status.idle": "2025-01-18T09:17:01.109063Z",
     "shell.execute_reply": "2025-01-18T09:17:01.108241Z",
     "shell.execute_reply.started": "2025-01-18T09:17:01.099846Z"
    }
   },
   "outputs": [
    {
     "name": "stdout",
     "output_type": "stream",
     "text": [
      "manju\n",
      "ᠮᠠᠨᠵᡠ\n"
     ]
    }
   ],
   "source": [
    "from convert_manscript import convert_manscript\n",
    "\n",
    "text1 = \"ᠮᠠᠨᠵᡠ\"\n",
    "text2 = \"manju\"\n",
    "\n",
    "print(convert_manscript(text1))  # output: manju\n",
    "print(convert_manscript(text2))  # output: ᠮᠠᠨᠵᡠ"
   ]
  },
  {
   "cell_type": "markdown",
   "id": "c626ddb9-5371-4526-9d16-1e74f5975c39",
   "metadata": {},
   "source": [
    "- 如果需要的方向已经确定，也可以不使用自动转换\n"
   ]
  },
  {
   "cell_type": "code",
   "execution_count": 18,
   "id": "8645b478-4df0-4680-95bd-911fb2c7b4c8",
   "metadata": {
    "execution": {
     "iopub.execute_input": "2025-01-18T09:17:40.940376Z",
     "iopub.status.busy": "2025-01-18T09:17:40.939916Z",
     "iopub.status.idle": "2025-01-18T09:17:40.946027Z",
     "shell.execute_reply": "2025-01-18T09:17:40.945370Z",
     "shell.execute_reply.started": "2025-01-18T09:17:40.940351Z"
    }
   },
   "outputs": [
    {
     "name": "stdout",
     "output_type": "stream",
     "text": [
      "manju\n",
      "ᠮᠠᠨᠵᡠ\n"
     ]
    }
   ],
   "source": [
    "# 传统满文转穆麟德\n",
    "from convert_manscript import manscript2mulinde\n",
    "text1 = \"ᠮᠠᠨᠵᡠ\"\n",
    "print(manscript2mulinde(text1)) # output: manju\n",
    "\n",
    "# 穆麟德转传统满文\n",
    "from convert_manscript import mulinde2manscript\n",
    "text2 = \"manju\"\n",
    "print(mulinde2manscript(text2)) # output: ᠮᠠᠨᠵᡠ"
   ]
  }
 ],
 "metadata": {
  "kernelspec": {
   "display_name": "Python 3 (ipykernel)",
   "language": "python",
   "name": "python3"
  },
  "language_info": {
   "codemirror_mode": {
    "name": "ipython",
    "version": 3
   },
   "file_extension": ".py",
   "mimetype": "text/x-python",
   "name": "python",
   "nbconvert_exporter": "python",
   "pygments_lexer": "ipython3",
   "version": "3.11.4"
  }
 },
 "nbformat": 4,
 "nbformat_minor": 5
}
